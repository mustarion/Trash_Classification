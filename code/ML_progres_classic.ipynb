{
 "cells": [
  {
   "cell_type": "code",
   "execution_count": 10,
   "metadata": {},
   "outputs": [],
   "source": [
    "import numpy as np\n",
    "import pandas as pd\n",
    "import matplotlib.pyplot as plt\n",
    "import os\n",
    "import cv2\n",
    "import seaborn as sns\n",
    "from tqdm import tqdm \n",
    "from sklearn.utils import shuffle\n",
    "from sklearn import decomposition\n",
    "from sklearn.model_selection import train_test_split\n",
    "from sklearn.metrics import accuracy_score, confusion_matrix\n",
    "import tensorflow as tf\n",
    "import keras\n",
    "from keras.applications.vgg16 import VGG16 \n",
    "from keras.preprocessing import image\n",
    "from keras.applications.vgg16 import preprocess_input\n",
    "from keras.models import Sequential, Model \n",
    "from keras.applications import DenseNet201\n",
    "from keras.initializers import he_normal\n",
    "from keras.layers import Lambda, SeparableConv2D, BatchNormalization, Dropout, MaxPooling2D, Input, Dense, Conv2D, Activation, Flatten \n",
    "from keras.callbacks import EarlyStopping, ReduceLROnPlateau, ModelCheckpoint\n",
    "from keras.applications.densenet import DenseNet169\n",
    "from keras.applications.densenet import preprocess_input\n"
   ]
  },
  {
   "cell_type": "markdown",
   "metadata": {},
   "source": [
    "## Inisialisasi Awal"
   ]
  },
  {
   "cell_type": "code",
   "execution_count": 11,
   "metadata": {},
   "outputs": [],
   "source": [
    "class_names = ['BIO','Cardboard','Electronic','Glass','Metal','Paper','Plastic','Trash']\n",
    "nb_classes = len(class_names)\n",
    "image_size = (150,150)"
   ]
  },
  {
   "cell_type": "markdown",
   "metadata": {},
   "source": [
    "## Fungsi Feature"
   ]
  },
  {
   "cell_type": "code",
   "execution_count": 12,
   "metadata": {},
   "outputs": [],
   "source": [
    "def color_histogram(image):\n",
    "    hsv_image = cv2.cvtColor(image, cv2.COLOR_BGR2HSV)\n",
    "    hist_hue = cv2.calcHist([hsv_image], [0], None, [256], [0, 256])\n",
    "    hist_saturation = cv2.calcHist([hsv_image], [1], None, [256], [0, 256])\n",
    "    hist_value = cv2.calcHist([hsv_image], [2], None, [256], [0, 256])\n",
    "    hist_hue /= np.sum(hist_hue)\n",
    "    hist_saturation /= np.sum(hist_saturation)\n",
    "    hist_value /= np.sum(hist_value)\n",
    "    features = np.concatenate((hist_hue, hist_saturation, hist_value), axis=None)\n",
    "    return features\n",
    "\n",
    "def shape_descriptor(image):\n",
    "    gray_image = cv2.cvtColor(image, cv2.COLOR_BGR2GRAY)\n",
    "    edges = cv2.Canny(gray_image, 50, 150)\n",
    "    contours, _ = cv2.findContours(edges, cv2.RETR_EXTERNAL, cv2.CHAIN_APPROX_SIMPLE)\n",
    "\n",
    "    # Pengecekan apakah ada kontur yang ditemukan\n",
    "    if contours:\n",
    "        largest_contour = max(contours, key=cv2.contourArea)\n",
    "        x, y, w, h = cv2.boundingRect(largest_contour)\n",
    "        aspect_ratio = w / h\n",
    "        features = np.array([aspect_ratio])\n",
    "    else:\n",
    "        features = np.array([0])\n",
    "\n",
    "    return features"
   ]
  },
  {
   "cell_type": "markdown",
   "metadata": {},
   "source": [
    "## Load Dataset"
   ]
  },
  {
   "cell_type": "code",
   "execution_count": 13,
   "metadata": {},
   "outputs": [],
   "source": [
    "def load_data():\n",
    "\n",
    "    datasets = ['data']\n",
    "    images = []\n",
    "    features = []\n",
    "    labels = []\n",
    "\n",
    "    # iterate through training and test sets\n",
    "    for dataset in datasets:\n",
    "\n",
    "        # iterate through folders in each dataset\n",
    "        for folder in os.listdir(dataset):\n",
    "\n",
    "            if folder in ['BIO']: label = 0\n",
    "            if folder in ['Cardboard']: label = 1\n",
    "            elif folder in ['Electronic']: label = 2\n",
    "            elif folder in ['Glass']: label = 3\n",
    "            elif folder in ['Metal']: label = 4\n",
    "            elif folder in ['Paper']: label = 5\n",
    "            elif folder in ['Plastic']: label = 6\n",
    "            elif folder in ['Trash']: label = 7\n",
    "\n",
    "            # iterate through each image in folder\n",
    "            for file in tqdm(os.listdir(os.path.join(dataset, folder))):\n",
    "\n",
    "                # get pathname of each image\n",
    "                img_path = os.path.join(os.path.join(dataset, folder), file)\n",
    "\n",
    "                # Open and resize the| img\n",
    "                image = cv2.imread(img_path)\n",
    "                color_features = color_histogram(image)\n",
    "                shape_features = shape_descriptor(image)\n",
    "                combined_features = np.concatenate((color_features, shape_features), axis=None)\n",
    "\n",
    "                # Label dapat diekstrak dari nama direktori atau nama file\n",
    "                features.append(combined_features)\n",
    "                labels.append(label)\n",
    "\n",
    "    features = np.array(features, dtype = 'float32')\n",
    "    labels = np.array(labels, dtype = 'int32')\n",
    "\n",
    "    return features, labels"
   ]
  },
  {
   "cell_type": "code",
   "execution_count": 14,
   "metadata": {},
   "outputs": [
    {
     "name": "stderr",
     "output_type": "stream",
     "text": [
      "  0%|          | 0/600 [00:00<?, ?it/s]"
     ]
    },
    {
     "name": "stderr",
     "output_type": "stream",
     "text": [
      "100%|██████████| 600/600 [00:08<00:00, 68.77it/s] \n",
      "100%|██████████| 600/600 [00:03<00:00, 197.79it/s]\n",
      "100%|██████████| 600/600 [00:05<00:00, 115.56it/s]\n",
      "100%|██████████| 600/600 [00:02<00:00, 231.64it/s]\n",
      "100%|██████████| 600/600 [00:02<00:00, 205.05it/s]\n",
      "100%|██████████| 600/600 [00:03<00:00, 176.81it/s]\n",
      "100%|██████████| 600/600 [00:02<00:00, 219.80it/s]\n",
      "100%|██████████| 600/600 [00:02<00:00, 209.69it/s]\n"
     ]
    }
   ],
   "source": [
    "features, labels = load_data()"
   ]
  },
  {
   "cell_type": "markdown",
   "metadata": {},
   "source": [
    "## Pembagian Dataset"
   ]
  },
  {
   "cell_type": "code",
   "execution_count": 21,
   "metadata": {},
   "outputs": [],
   "source": [
    "features, labels = shuffle(features, labels, random_state=10)\n",
    "\n",
    "train_images, test_images, train_labels, test_labels = train_test_split(features, labels, train_size = 0.8,)\n",
    "test_images, val_images, test_labels, val_labels = train_test_split(test_images, test_labels, test_size = 0.5)"
   ]
  },
  {
   "cell_type": "code",
   "execution_count": 22,
   "metadata": {},
   "outputs": [],
   "source": [
    "train_images = train_images / 255.0 \n",
    "val_images = val_images / 255.0\n",
    "test_images = test_images / 255.0"
   ]
  },
  {
   "cell_type": "code",
   "execution_count": 23,
   "metadata": {},
   "outputs": [
    {
     "data": {
      "image/png": "[encoded data removed]",
      "text/plain": [
       "<Figure size 640x480 with 1 Axes>"
      ]
     },
     "metadata": {},
     "output_type": "display_data"
    }
   ],
   "source": [
    "_, train_counts = np.unique(train_labels, return_counts = True)\n",
    "_, val_counts = np.unique(val_labels, return_counts = True)\n",
    "_, test_counts = np.unique(test_labels, return_counts = True)\n",
    "\n",
    "pd.DataFrame({'train': train_counts, \"val\": val_counts, \"test\": test_counts}, index = class_names).plot.bar()\n",
    "\n",
    "plt.show()"
   ]
  },
  {
   "cell_type": "markdown",
   "metadata": {},
   "source": [
    "## Implementasi Model Klasik ML"
   ]
  },
  {
   "cell_type": "code",
   "execution_count": 24,
   "metadata": {},
   "outputs": [
    {
     "name": "stdout",
     "output_type": "stream",
     "text": [
      "Accuracy: 0.39791666666666664\n",
      "Accuracy on training: 0.45011721802552745\n",
      "Accuracy on test: 0.39791666666666664\n",
      "p-value:  0.10130911560491615\n"
     ]
    }
   ],
   "source": [
    "from sklearn.svm import SVC\n",
    "from sklearn.metrics import accuracy_score, classification_report\n",
    "from scipy.stats import ttest_ind\n",
    "svm_model = SVC(decision_function_shape='ovo')\n",
    "history = svm_model.fit(train_images, train_labels)\n",
    "\n",
    "# Make predictions\n",
    "y_pred = svm_model.predict(test_images)\n",
    "acc_train = np.mean(train_labels == svm_model.predict(train_images))\n",
    "acc_test = np.mean(test_labels == y_pred)\n",
    "\n",
    "# t test\n",
    "t, p = ttest_ind(train_labels, y_pred)\n",
    "\n",
    "# Evaluate accuracy\n",
    "accuracy = accuracy_score(test_labels, y_pred)\n",
    "print(\"Accuracy:\", accuracy)\n",
    "print(\"Accuracy on training:\", acc_train)\n",
    "print(\"Accuracy on test:\", acc_test)\n",
    "print('p-value: ', p)"
   ]
  },
  {
   "cell_type": "markdown",
   "metadata": {},
   "source": [
    "## Evaluasi Hasil"
   ]
  },
  {
   "cell_type": "code",
   "execution_count": 25,
   "metadata": {},
   "outputs": [
    {
     "name": "stdout",
     "output_type": "stream",
     "text": [
      "                      precision    recall  f1-score   support\n",
      "\n",
      "       BIO (Class 0)       0.54      0.45      0.49        66\n",
      " Cardboard (Class 1)       0.58      0.60      0.59        57\n",
      "Electronic (Class 2)       0.29      0.65      0.40        51\n",
      "     Glass (Class 3)       0.33      0.22      0.26        64\n",
      "     Metal (Class 4)       0.33      0.11      0.16        57\n",
      "     Paper (Class 5)       0.43      0.66      0.52        61\n",
      "   Plastic (Class 6)       0.41      0.30      0.35        66\n",
      "     Trash (Class 7)       0.28      0.24      0.26        58\n",
      "\n",
      "            accuracy                           0.40       480\n",
      "           macro avg       0.40      0.40      0.38       480\n",
      "        weighted avg       0.40      0.40      0.38       480\n",
      "\n"
     ]
    }
   ],
   "source": [
    "print(classification_report(\n",
    "    test_labels, \n",
    "    y_pred, \n",
    "    target_names = ['BIO (Class 0)', 'Cardboard (Class 1)', 'Electronic (Class 2)', 'Glass (Class 3)', 'Metal (Class 4)', 'Paper (Class 5)', 'Plastic (Class 6)', 'Trash (Class 7)']))"
   ]
  },
  {
   "cell_type": "code",
   "execution_count": 27,
   "metadata": {},
   "outputs": [
    {
     "data": {
      "text/html": [
       "<div>\n",
       "<style scoped>\n",
       "    .dataframe tbody tr th:only-of-type {\n",
       "        vertical-align: middle;\n",
       "    }\n",
       "\n",
       "    .dataframe tbody tr th {\n",
       "        vertical-align: top;\n",
       "    }\n",
       "\n",
       "    .dataframe thead tr th {\n",
       "        text-align: left;\n",
       "    }\n",
       "</style>\n",
       "<table border=\"1\" class=\"dataframe\">\n",
       "  <thead>\n",
       "    <tr>\n",
       "      <th></th>\n",
       "      <th>0</th>\n",
       "      <th>1</th>\n",
       "      <th>2</th>\n",
       "      <th>3</th>\n",
       "      <th>4</th>\n",
       "      <th>5</th>\n",
       "      <th>6</th>\n",
       "      <th>7</th>\n",
       "    </tr>\n",
       "  </thead>\n",
       "  <tbody>\n",
       "    <tr>\n",
       "      <th>0</th>\n",
       "      <td>30</td>\n",
       "      <td>2</td>\n",
       "      <td>26</td>\n",
       "      <td>0</td>\n",
       "      <td>0</td>\n",
       "      <td>4</td>\n",
       "      <td>0</td>\n",
       "      <td>4</td>\n",
       "    </tr>\n",
       "    <tr>\n",
       "      <th>1</th>\n",
       "      <td>5</td>\n",
       "      <td>34</td>\n",
       "      <td>1</td>\n",
       "      <td>1</td>\n",
       "      <td>1</td>\n",
       "      <td>4</td>\n",
       "      <td>5</td>\n",
       "      <td>6</td>\n",
       "    </tr>\n",
       "    <tr>\n",
       "      <th>2</th>\n",
       "      <td>4</td>\n",
       "      <td>1</td>\n",
       "      <td>33</td>\n",
       "      <td>0</td>\n",
       "      <td>3</td>\n",
       "      <td>6</td>\n",
       "      <td>0</td>\n",
       "      <td>4</td>\n",
       "    </tr>\n",
       "    <tr>\n",
       "      <th>3</th>\n",
       "      <td>1</td>\n",
       "      <td>7</td>\n",
       "      <td>9</td>\n",
       "      <td>14</td>\n",
       "      <td>2</td>\n",
       "      <td>9</td>\n",
       "      <td>18</td>\n",
       "      <td>4</td>\n",
       "    </tr>\n",
       "    <tr>\n",
       "      <th>4</th>\n",
       "      <td>8</td>\n",
       "      <td>3</td>\n",
       "      <td>13</td>\n",
       "      <td>5</td>\n",
       "      <td>6</td>\n",
       "      <td>11</td>\n",
       "      <td>6</td>\n",
       "      <td>5</td>\n",
       "    </tr>\n",
       "    <tr>\n",
       "      <th>5</th>\n",
       "      <td>1</td>\n",
       "      <td>1</td>\n",
       "      <td>6</td>\n",
       "      <td>9</td>\n",
       "      <td>2</td>\n",
       "      <td>40</td>\n",
       "      <td>0</td>\n",
       "      <td>2</td>\n",
       "    </tr>\n",
       "    <tr>\n",
       "      <th>6</th>\n",
       "      <td>1</td>\n",
       "      <td>3</td>\n",
       "      <td>7</td>\n",
       "      <td>10</td>\n",
       "      <td>3</td>\n",
       "      <td>11</td>\n",
       "      <td>20</td>\n",
       "      <td>11</td>\n",
       "    </tr>\n",
       "    <tr>\n",
       "      <th>7</th>\n",
       "      <td>6</td>\n",
       "      <td>8</td>\n",
       "      <td>17</td>\n",
       "      <td>4</td>\n",
       "      <td>1</td>\n",
       "      <td>8</td>\n",
       "      <td>0</td>\n",
       "      <td>14</td>\n",
       "    </tr>\n",
       "  </tbody>\n",
       "</table>\n",
       "</div>"
      ],
      "text/plain": [
       "    0   1   2   3  4   5   6   7\n",
       "0  30   2  26   0  0   4   0   4\n",
       "1   5  34   1   1  1   4   5   6\n",
       "2   4   1  33   0  3   6   0   4\n",
       "3   1   7   9  14  2   9  18   4\n",
       "4   8   3  13   5  6  11   6   5\n",
       "5   1   1   6   9  2  40   0   2\n",
       "6   1   3   7  10  3  11  20  11\n",
       "7   6   8  17   4  1   8   0  14"
      ]
     },
     "execution_count": 27,
     "metadata": {},
     "output_type": "execute_result"
    }
   ],
   "source": [
    "cm = confusion_matrix(test_labels, y_pred)\n",
    "cm = pd.DataFrame(cm, index = ['0', '1', '2', '3', '4', '5', '6', '7'], columns = [['0', '1', '2', '3', '4', '5', '6', '7']])\n",
    "cm"
   ]
  },
  {
   "cell_type": "code",
   "execution_count": 28,
   "metadata": {},
   "outputs": [
    {
     "data": {
      "image/png": "[encoded data removed]",
      "text/plain": [
       "<Figure size 400x400 with 2 Axes>"
      ]
     },
     "metadata": {},
     "output_type": "display_data"
    }
   ],
   "source": [
    "def plot_confusion_matrix (cm):\n",
    "    plt.figure(figsize = (4,4))\n",
    "    sns.heatmap(\n",
    "        cm, \n",
    "        cmap = 'Reds', \n",
    "        linecolor = 'black', \n",
    "        linewidth = 1, \n",
    "        annot = True, \n",
    "        fmt = '', \n",
    "        xticklabels = class_names, \n",
    "        yticklabels = class_names)\n",
    "    \n",
    "plot_confusion_matrix(cm)"
   ]
  }
 ],
 "metadata": {
  "kernelspec": {
   "display_name": "Python 3",
   "language": "python",
   "name": "python3"
  },
  "language_info": {
   "codemirror_mode": {
    "name": "ipython",
    "version": 3
   },
   "file_extension": ".py",
   "mimetype": "text/x-python",
   "name": "python",
   "nbconvert_exporter": "python",
   "pygments_lexer": "ipython3",
   "version": "3.11.5"
  },
  "orig_nbformat": 4,
  "vscode": {
   "interpreter": {
    "hash": "f2ccb58c476f33ba3e3aee7ac07234ef6b8217ef24ad64d2a7d4fed1a57c1cd2"
   }
  }
 },
 "nbformat": 4,
 "nbformat_minor": 2
}
